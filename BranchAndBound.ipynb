{
 "cells": [
  {
   "cell_type": "code",
   "execution_count": 2,
   "metadata": {},
   "outputs": [],
   "source": [
    "from mip import *\n",
    "from modulo_Problema_linear import Problema_linear"
   ]
  },
  {
   "cell_type": "code",
   "execution_count": 3,
   "metadata": {},
   "outputs": [],
   "source": [
    "def ler_arquivo(nome_arquivo):\n",
    "    try:\n",
    "        with open(nome_arquivo, 'r') as arquivo:\n",
    "            linhas = arquivo.readlines()\n",
    "            tamanho_da_lista = len(linhas)\n",
    "            lista_restricoes = []\n",
    "            for i in range(tamanho_da_lista):\n",
    "                linha = linhas[i].split()\n",
    "                match i:\n",
    "                    case 0:\n",
    "                        quantidade_variaveis = int(linha[0])\n",
    "                        quantidade_restricoes = int(linha[1])\n",
    "                    case 1:\n",
    "                        coeficientes_objetivo = []\n",
    "                        for variaveis in range(quantidade_variaveis):\n",
    "                            coeficientes_objetivo.append(int(linha[variaveis]))\n",
    "                    \n",
    "                    case _:\n",
    "                        tamanho_da_linha = len(linha)\n",
    "                        lista = []\n",
    "                        for restricao in range(tamanho_da_linha):\n",
    "                            lista.append(int(linha[restricao]))\n",
    "                        lista_restricoes.append(lista)\n",
    "        \n",
    "        return quantidade_variaveis,quantidade_restricoes,coeficientes_objetivo,lista_restricoes\n",
    "    except FileNotFoundError:\n",
    "        print(f'O arquivo \"{nome_arquivo}\" não foi encontrado.')\n"
   ]
  },
  {
   "cell_type": "code",
   "execution_count": 8,
   "metadata": {},
   "outputs": [],
   "source": [
    "def todas_variaveis_inteiras(problema):\n",
    "        for var in problema.variaveis_not_integer:\n",
    "            if abs(var.x - round(var.x)) >= 1e-6:\n",
    "                return False\n",
    "        return True   "
   ]
  },
  {
   "cell_type": "code",
   "execution_count": 7,
   "metadata": {},
   "outputs": [],
   "source": [
    "def who_is_closer(problema):\n",
    "    var_prox_05 = None\n",
    "    melhor_dist = 1000\n",
    "\n",
    "    for v in problema.variaveis_not_integer:\n",
    "        dist = abs(v.x - 0.5)\n",
    "\n",
    "        if dist < melhor_dist:\n",
    "            var_prox_05 = v\n",
    "            melhor_dist = dist\n",
    " \n",
    "    return var_prox_05"
   ]
  },
  {
   "cell_type": "code",
   "execution_count": 6,
   "metadata": {},
   "outputs": [],
   "source": [
    "def branch_and_bound(problema):\n",
    "\n",
    "    # Definimos um valor para a inicialização\n",
    "    melhor_solucao = -float(\"inf\")\n",
    "    # Variável que guarda o melhor modelo encontrado\n",
    "    melhor_problema = None\n",
    "    # Inicializando uma fila com os modelos abertos\n",
    "    fila = [problema]\n",
    "\n",
    "    # Só para quando a fila estiver vazia\n",
    "    while fila:\n",
    "        # Problema atual é sempre o primeiro elemento da fila\n",
    "        problema_atual = fila[0]\n",
    "\n",
    "        status = problema_atual.resolver()\n",
    "\n",
    "        # Verifica se houve uma solução viável\n",
    "        if status == OptimizationStatus.OPTIMAL:\n",
    "\n",
    "            # Busca a variável mais próxima de 0.5\n",
    "            var_prox_05 = who_is_closer(problema_atual)\n",
    "            # Verifica se todas as variáveis são inteiras\n",
    "            inteiro = todas_variaveis_inteiras(problema_atual)\n",
    "            \n",
    "            if inteiro:\n",
    "                # Sendo todas inteiras, vemos se ela é a melhor solução atual\n",
    "                if problema_atual.modelo.objective_value > melhor_solucao:\n",
    "                    melhor_solucao = problema_atual.modelo.objective_value\n",
    "                    melhor_problema = problema_atual\n",
    "        \n",
    "            else:\n",
    "                # Não sendo inteira, criamos novas condições para solucionar o problema\n",
    "                if problema_atual.modelo.objective_value > melhor_solucao:\n",
    "        \n",
    "                    model1 = Problema_linear(problema_atual.modelo.copy())\n",
    "                    model1.adicionar_restricao(var_prox_05,1,\">=\",\"\")\n",
    "                    model2 = Problema_linear(problema_atual.modelo.copy())\n",
    "                    model2.adicionar_restricao(var_prox_05,0,\"<=\",\"\")\n",
    "\n",
    "                    # Adicionamos os novos modelos a lista \n",
    "                    fila.append(model1)\n",
    "                    fila.append(model2)\n",
    "\n",
    "        # Removemos o modelo corrente da fila\n",
    "        fila.pop(0)\n",
    "    return  melhor_problema "
   ]
  },
  {
   "cell_type": "code",
   "execution_count": 7,
   "metadata": {},
   "outputs": [],
   "source": [
    "with open(\"saida.txt\", \"w\") as arquivo:\n",
    "    for i in range(1, 5):\n",
    "\n",
    "        quantidade_variaveis,quantidade_restricoes,coeficientes_objetivo,lista_restricoes = ler_arquivo(f\"teste{i}.txt\")\n",
    "        problema = Problema_linear(None)\n",
    "        problema.criarModelo(f\"teste{i}.txt\",CONTINUOUS,quantidade_variaveis,0.0,1.0,quantidade_restricoes,coeficientes_objetivo,lista_restricoes)\n",
    "\n",
    "        solucao = branch_and_bound(problema)\n",
    "   \n",
    "        print(f\"Solution Teste {i}  = {solucao.modelo.objective_value:.2f}\", file=arquivo)\n",
    "        arquivo.write(\"Solution:\\n\")\n",
    "        for v in solucao.modelo.vars:\n",
    "            print(f\"{v.name} = {v.x:.2f}\", file=arquivo)\n",
    "        print(\"--------------------------------------------------\", file=arquivo)\n"
   ]
  }
 ],
 "metadata": {
  "kernelspec": {
   "display_name": "Python 3",
   "language": "python",
   "name": "python3"
  },
  "language_info": {
   "codemirror_mode": {
    "name": "ipython",
    "version": 3
   },
   "file_extension": ".py",
   "mimetype": "text/x-python",
   "name": "python",
   "nbconvert_exporter": "python",
   "pygments_lexer": "ipython3",
   "version": "3.10.10"
  }
 },
 "nbformat": 4,
 "nbformat_minor": 2
}
