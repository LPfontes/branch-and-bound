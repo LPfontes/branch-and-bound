{
 "cells": [
  {
   "cell_type": "markdown",
   "metadata": {},
   "source": [
    "## Search in https://docs.python-mip.com/en/latest/classes.html"
   ]
  },
  {
   "cell_type": "code",
   "execution_count": 1,
   "metadata": {},
   "outputs": [],
   "source": [
    "from mip import *"
   ]
  },
  {
   "cell_type": "code",
   "execution_count": 2,
   "metadata": {},
   "outputs": [],
   "source": [
    "def ler_arquivo(nome_arquivo):\n",
    "    try:\n",
    "        with open(nome_arquivo, 'r') as arquivo:\n",
    "            linhas = arquivo.readlines()\n",
    "            tamanho_da_lista = len(linhas)\n",
    "            lista_restricoes = []\n",
    "            for i in range(tamanho_da_lista):\n",
    "                linha = linhas[i].split()\n",
    "                match i:\n",
    "                    case 0:\n",
    "                        quantidade_variaveis = int(linha[0])\n",
    "                        quantidade_restricoes = int(linha[1])\n",
    "                    case 1:\n",
    "                        coeficientes_objetivo = []\n",
    "                        for variaveis in range(quantidade_variaveis):\n",
    "                            coeficientes_objetivo.append(int(linha[variaveis]))    \n",
    "                    case _:\n",
    "                        tamanho_da_linha = len(linha)\n",
    "                        lista = []\n",
    "                        for restricao in range(tamanho_da_linha):\n",
    "                            lista.append(int(linha[restricao]))\n",
    "                        lista_restricoes.append(lista)\n",
    "\n",
    "        return (quantidade_variaveis, quantidade_restricoes, coeficientes_objetivo, lista_restricoes)\n",
    "    \n",
    "    except FileNotFoundError:\n",
    "        print(f'O arquivo \"{nome_arquivo}\" não foi encontrado.')"
   ]
  },
  {
   "cell_type": "code",
   "execution_count": 33,
   "metadata": {},
   "outputs": [],
   "source": [
    "def Criar_modelo(dados):\n",
    "    quant_variaveis = dados[0]\n",
    "    quant_restricoes = dados[1]\n",
    "    coeficientes_objetivo = dados[2]\n",
    "    restricoes = dados[3]\n",
    "    \n",
    "    # BINARY = Para fazer a verificação/solução do modelo original, usando SIMPLEX\n",
    "    model = Model(sense=MAXIMIZE, solver_name=CBC)\n",
    "    x = {i: model.add_var(var_type=BINARY, name=f'x_{i}', lb=0.0) for i in  range(1,quant_variaveis+1)}\n",
    "    model.objective = xsum(coeficientes_objetivo[i-1]*x[i] for i in range(1,quant_variaveis+1))\n",
    "\n",
    "    for i in range(quant_restricoes):\n",
    "        tamanho_lista = len(restricoes[i])\n",
    "        soma =  xsum(restricoes[i][j]*x[j+1] for j in range (tamanho_lista-1))\n",
    "        model += soma <= restricoes[i][tamanho_lista-1], \"constr\"+ str(i)\n",
    "\n",
    "    model.write(\"model.lp\") # salva modelo em arquivo\n",
    "    with open(\"model.lp\") as f: # lê e exibe conteúdo do arquivo\n",
    "        print(f.read())\n",
    "\n",
    "    return model"
   ]
  },
  {
   "cell_type": "code",
   "execution_count": 34,
   "metadata": {},
   "outputs": [],
   "source": [
    "def solve(model):\n",
    "    status = model.optimize()\n",
    "\n",
    "    print(\"Status = \", status)\n",
    "    print(f\"Solution value  = {model.objective_value:.2f}\\n\")\n",
    "    \n",
    "    print(\"Solution:\")\n",
    "    for v in model.vars:\n",
    "        print(f\"{v.name} = {v.x:.2f}\")"
   ]
  },
  {
   "cell_type": "code",
   "execution_count": 35,
   "metadata": {},
   "outputs": [
    {
     "name": "stdout",
     "output_type": "stream",
     "text": [
      "\\Problem name: \n",
      "\n",
      "Minimize\n",
      "OBJROW: -2 x_1 -10 x_2 -8 x_3 -7 x_4 -10 x_5 -10 x_6 -6 x_7\n",
      "Subject To\n",
      "constr0:  5 x_1 + 7 x_2 + 8 x_3 + x_4 + 7 x_5 + 5 x_6 + 6 x_7 <= 20\n",
      "constr1:  x_1 + 6 x_2 + 4 x_3 + 9 x_4 + 10 x_5 + 6 x_6 + 10 x_7 <= 30\n",
      "constr2:  4 x_1 + 4 x_2 + 4 x_3 + x_4 + 5 x_5 + 5 x_6 + 10 x_7 <= 40\n",
      "constr3:  3 x_1 + 10 x_2 + 8 x_3 + x_4 + 3 x_5 + 3 x_6 + 8 x_7 <= 30\n",
      "constr4:  10 x_1 + 8 x_2 + 9 x_3 + 9 x_4 + 7 x_5 + 6 x_6 + 10 x_7 <= 20\n",
      "constr5:  6 x_1 + 6 x_2 + 3 x_3 + 6 x_4 + 3 x_5 + 7 x_6 + 2 x_7 <= 80\n",
      "constr6:  7 x_1 + 10 x_2 + 7 x_3 + 8 x_4 + 7 x_5 + 8 x_6 + 7 x_7 <= 100\n",
      "constr7:  9 x_1 + 8 x_2 + x_3 + x_4 + 8 x_5 + 10 x_6 + 2 x_7 <= 90\n",
      "constr8:  x_1 + 5 x_2 + 3 x_3 + 10 x_4 + 2 x_5 + 4 x_6 + 9 x_7 <= 70\n",
      "constr9:  9 x_1 + 6 x_2 + x_3 + 4 x_4 + 7 x_5 + 5 x_6 + 10 x_7 <= 60\n",
      "constr10:  5 x_1 + 7 x_2 + 4 x_3 + 4 x_4 + 3 x_5 + 4 x_6 + 10 x_7 <= 40\n",
      "Bounds\n",
      " 0 <= x_1 <= 1\n",
      " 0 <= x_2 <= 1\n",
      " 0 <= x_3 <= 1\n",
      " 0 <= x_4 <= 1\n",
      " 0 <= x_5 <= 1\n",
      " 0 <= x_6 <= 1\n",
      " 0 <= x_7 <= 1\n",
      "Integers\n",
      "x_1 x_2 x_3 x_4 x_5 x_6 x_7 \n",
      "End\n",
      "\n",
      "<mip.model.Model object at 0x000002A980174CA0>\n",
      "Status =  OptimizationStatus.OPTIMAL\n",
      "Solution value  = 20.00\n",
      "\n",
      "Solution:\n",
      "x_1 = 0.00\n",
      "x_2 = 0.00\n",
      "x_3 = 0.00\n",
      "x_4 = 0.00\n",
      "x_5 = 1.00\n",
      "x_6 = 1.00\n",
      "x_7 = 0.00\n"
     ]
    }
   ],
   "source": [
    "# Ler todos os aquivos do acervo ()\n",
    "for i in range(1, 2):\n",
    "    dados_problema = ler_arquivo(f\"teste{i}.txt\")\n",
    "    \n",
    "    modelo = Criar_modelo(dados_problema)\n",
    "    print(modelo)\n",
    "\n",
    "    solve(modelo)"
   ]
  }
 ],
 "metadata": {
  "kernelspec": {
   "display_name": "Python 3",
   "language": "python",
   "name": "python3"
  },
  "language_info": {
   "codemirror_mode": {
    "name": "ipython",
    "version": 3
   },
   "file_extension": ".py",
   "mimetype": "text/x-python",
   "name": "python",
   "nbconvert_exporter": "python",
   "pygments_lexer": "ipython3",
   "version": "3.10.10"
  }
 },
 "nbformat": 4,
 "nbformat_minor": 2
}
